{
 "cells": [
  {
   "cell_type": "markdown",
   "metadata": {},
   "source": [
    "## Read about fine grained classification on github and found BiCNN paper."
   ]
  },
  {
   "cell_type": "code",
   "execution_count": 1,
   "metadata": {},
   "outputs": [
    {
     "name": "stderr",
     "output_type": "stream",
     "text": [
      "Using TensorFlow backend.\n"
     ]
    }
   ],
   "source": [
    "import keras\n",
    "import tensorflow as tf"
   ]
  },
  {
   "cell_type": "code",
   "execution_count": 2,
   "metadata": {},
   "outputs": [],
   "source": [
    "import numpy as np\n",
    "import matplotlib.pyplot as plt\n",
    "%matplotlib inline\n",
    "from PIL import Image\n",
    "import os, h5py"
   ]
  },
  {
   "cell_type": "code",
   "execution_count": 3,
   "metadata": {},
   "outputs": [],
   "source": [
    "from keras.layers import Input, Activation, Lambda\n",
    "from keras.layers.advanced_activations import LeakyReLU\n",
    "from keras.layers import Conv2D, SeparableConv2D, AveragePooling2D, GlobalAveragePooling2D, MaxPooling2D, GlobalMaxPool2D\n",
    "from keras.layers.core import Dense\n",
    "from keras.layers.normalization import BatchNormalization\n",
    "from keras.layers.merge import Add, Concatenate, Multiply\n",
    "from keras.optimizers import Adam, RMSprop, Nadam\n",
    "from keras.models import Model\n",
    "from keras.preprocessing.image import ImageDataGenerator\n",
    "from keras.applications.vgg16 import VGG16, preprocess_input\n",
    "from keras import backend as K"
   ]
  },
  {
   "cell_type": "code",
   "execution_count": 4,
   "metadata": {},
   "outputs": [],
   "source": [
    "ip_shp = (255, 143, 3)"
   ]
  },
  {
   "cell_type": "code",
   "execution_count": 5,
   "metadata": {},
   "outputs": [],
   "source": [
    "m1 = VGG16(include_top=False, input_shape=ip_shp)\n",
    "m2 = Model(m1.input, m1.get_layer(index=-2).output)\n",
    "for layer in m2.layers: layer.trainable = False"
   ]
  },
  {
   "cell_type": "code",
   "execution_count": 8,
   "metadata": {},
   "outputs": [
    {
     "name": "stdout",
     "output_type": "stream",
     "text": [
      "_________________________________________________________________\n",
      "Layer (type)                 Output Shape              Param #   \n",
      "=================================================================\n",
      "input_1 (InputLayer)         (None, 255, 143, 3)       0         \n",
      "_________________________________________________________________\n",
      "block1_conv1 (Conv2D)        (None, 255, 143, 64)      1792      \n",
      "_________________________________________________________________\n",
      "block1_conv2 (Conv2D)        (None, 255, 143, 64)      36928     \n",
      "_________________________________________________________________\n",
      "block1_pool (MaxPooling2D)   (None, 127, 71, 64)       0         \n",
      "_________________________________________________________________\n",
      "block2_conv1 (Conv2D)        (None, 127, 71, 128)      73856     \n",
      "_________________________________________________________________\n",
      "block2_conv2 (Conv2D)        (None, 127, 71, 128)      147584    \n",
      "_________________________________________________________________\n",
      "block2_pool (MaxPooling2D)   (None, 63, 35, 128)       0         \n",
      "_________________________________________________________________\n",
      "block3_conv1 (Conv2D)        (None, 63, 35, 256)       295168    \n",
      "_________________________________________________________________\n",
      "block3_conv2 (Conv2D)        (None, 63, 35, 256)       590080    \n",
      "_________________________________________________________________\n",
      "block3_conv3 (Conv2D)        (None, 63, 35, 256)       590080    \n",
      "_________________________________________________________________\n",
      "block3_pool (MaxPooling2D)   (None, 31, 17, 256)       0         \n",
      "_________________________________________________________________\n",
      "block4_conv1 (Conv2D)        (None, 31, 17, 512)       1180160   \n",
      "_________________________________________________________________\n",
      "block4_conv2 (Conv2D)        (None, 31, 17, 512)       2359808   \n",
      "_________________________________________________________________\n",
      "block4_conv3 (Conv2D)        (None, 31, 17, 512)       2359808   \n",
      "_________________________________________________________________\n",
      "block4_pool (MaxPooling2D)   (None, 15, 8, 512)        0         \n",
      "_________________________________________________________________\n",
      "block5_conv1 (Conv2D)        (None, 15, 8, 512)        2359808   \n",
      "_________________________________________________________________\n",
      "block5_conv2 (Conv2D)        (None, 15, 8, 512)        2359808   \n",
      "_________________________________________________________________\n",
      "block5_conv3 (Conv2D)        (None, 15, 8, 512)        2359808   \n",
      "=================================================================\n",
      "Total params: 14,714,688\n",
      "Trainable params: 0\n",
      "Non-trainable params: 14,714,688\n",
      "_________________________________________________________________\n"
     ]
    }
   ],
   "source": [
    "m2.summary()"
   ]
  },
  {
   "cell_type": "code",
   "execution_count": 10,
   "metadata": {},
   "outputs": [],
   "source": [
    "def bilinearpool(ip):\n",
    "    phi_I = tf.einsum('ijkm,ijkn->imn',ip,ip)\n",
    "\n",
    "    phi_I = tf.reshape(phi_I,[-1,512*512])\n",
    "\n",
    "    phi_I = tf.divide(phi_I,784.0)  \n",
    "\n",
    "    y_ssqrt = tf.multiply(tf.sign(phi_I),tf.sqrt(tf.abs(phi_I)+1e-12))\n",
    "\n",
    "    z_l2 = tf.nn.l2_normalize(y_ssqrt, dim=1)\n",
    "    \n",
    "    return z_l2"
   ]
  },
  {
   "cell_type": "code",
   "execution_count": 11,
   "metadata": {},
   "outputs": [],
   "source": [
    "ip = Input(ip_shp)\n",
    "x = Lambda(preprocess_input)(ip)\n",
    "x = m2(x)\n",
    "x = Lambda(bilinearpool)(x)\n",
    "x = Dense(2, activation='softmax')(x)\n",
    "m = Model(ip, x)"
   ]
  },
  {
   "cell_type": "code",
   "execution_count": 12,
   "metadata": {},
   "outputs": [
    {
     "name": "stdout",
     "output_type": "stream",
     "text": [
      "_________________________________________________________________\n",
      "Layer (type)                 Output Shape              Param #   \n",
      "=================================================================\n",
      "input_2 (InputLayer)         (None, 255, 143, 3)       0         \n",
      "_________________________________________________________________\n",
      "lambda_1 (Lambda)            (None, 255, 143, 3)       0         \n",
      "_________________________________________________________________\n",
      "model_1 (Model)              (None, 15, 8, 512)        14714688  \n",
      "_________________________________________________________________\n",
      "lambda_2 (Lambda)            (None, 262144)            0         \n",
      "_________________________________________________________________\n",
      "dense_1 (Dense)              (None, 2)                 524290    \n",
      "=================================================================\n",
      "Total params: 15,238,978\n",
      "Trainable params: 524,290\n",
      "Non-trainable params: 14,714,688\n",
      "_________________________________________________________________\n"
     ]
    }
   ],
   "source": [
    "m.summary()"
   ]
  },
  {
   "cell_type": "code",
   "execution_count": 13,
   "metadata": {},
   "outputs": [],
   "source": [
    "model_json = m.to_json()\n",
    "with open(\"BiCNN.json\", \"w\") as json_file:\n",
    "    json_file.write(model_json)"
   ]
  },
  {
   "cell_type": "code",
   "execution_count": 14,
   "metadata": {},
   "outputs": [],
   "source": [
    "class DataGenerator():\n",
    "    def foo(self, x):\n",
    "        return int(x.split('.')[1])\n",
    "    \n",
    "    def __init__(self, batch_size):\n",
    "        self.path1 = '/home/aaditya/Documents/pytest2/neural-style-keras-master/content_imgs/imgs_resized/0/'\n",
    "        self.path2 = '/home/aaditya/Documents/pytest2/neural-style-keras-master/content_imgs/imgs_resized/1/'\n",
    "        self.batch_size = batch_size\n",
    "        \n",
    "        list0 = sorted(os.listdir(self.path1), key=self.foo)\n",
    "        list0 = np.random.choice(list0, 50, replace=False)\n",
    "        \n",
    "        list1 = sorted(os.listdir(self.path2), key=self.foo)\n",
    "        list1 = np.random.choice(list1, 50, replace=False)\n",
    "        \n",
    "        self.x_train = np.stack([np.array(Image.open(os.path.join(self.path1, l)), dtype=np.float) for l in list0])\n",
    "        self.x_train = np.concatenate((self.x_train, np.stack([np.array(Image.open(os.path.join(self.path2, l)), dtype=np.float) for l in list1])))\n",
    "        \n",
    "        self.y_train = np.array([[1,0]]*50 + [[0,1]]*50, dtype=np.float)\n",
    "        \n",
    "    def flow(self):\n",
    "        while True:\n",
    "            indices = [np.random.randint(0,50), np.random.randint(50,100)]\n",
    "            yield self.x_train[indices], self.y_train[indices]"
   ]
  },
  {
   "cell_type": "code",
   "execution_count": 15,
   "metadata": {},
   "outputs": [],
   "source": [
    "class ValDataGenerator():\n",
    "    def foo(self, x):\n",
    "        return int(x.split('.')[1])\n",
    "    \n",
    "    def __init__(self):\n",
    "        self.path1 = '/home/aaditya/Documents/pytest2/neural-style-keras-master/content_imgs/imgs_resized/0/'\n",
    "        self.path2 = '/home/aaditya/Documents/pytest2/neural-style-keras-master/content_imgs/imgs_resized/1/'\n",
    "        \n",
    "        list0 = sorted(os.listdir(self.path1), key=self.foo)\n",
    "        list0 = list0[110:130]\n",
    "        \n",
    "        list1 = sorted(os.listdir(self.path2), key=self.foo)\n",
    "        list1 = list1[110:130]\n",
    "        \n",
    "        self.x_train = np.stack([np.array(Image.open(os.path.join(self.path1, l)), dtype=np.float) for l in list0])\n",
    "        self.x_train = np.concatenate((self.x_train, np.stack([np.array(Image.open(os.path.join(self.path2, l)), dtype=np.float) for l in list1])))\n",
    "        \n",
    "        self.y_train = np.array([[1,0]]*20 + [[0,1]]*20, dtype=np.float)\n",
    "        \n",
    "    def flow(self):\n",
    "        return self.x_train, self.y_train"
   ]
  },
  {
   "cell_type": "markdown",
   "metadata": {},
   "source": [
    "with h5py.File('/home/aaditya/Documents/pytest2/neural-style-keras-master/content_imgs/probs.h5', 'r') as hdf:\n",
    "    y2 = np.array(hdf.get('prob2'))\n",
    "    y1 = np.array(hdf.get('prob1'))\n",
    "    y0 = np.array(hdf.get('prob0'))"
   ]
  },
  {
   "cell_type": "markdown",
   "metadata": {},
   "source": [
    "y_train = np.concatenate((y2[:84], y1[:42], y0[:42]))"
   ]
  },
  {
   "cell_type": "markdown",
   "metadata": {},
   "source": [
    "traingen = DataGenerator(2)"
   ]
  },
  {
   "cell_type": "code",
   "execution_count": 12,
   "metadata": {},
   "outputs": [
    {
     "name": "stdout",
     "output_type": "stream",
     "text": [
      "Found 302 images belonging to 2 classes.\n"
     ]
    }
   ],
   "source": [
    "path = '/home/aaditya/Documents/pytest2/neural-style-keras-master/content_imgs/imgs_resized'\n",
    "traingen = ImageDataGenerator(horizontal_flip=True).flow_from_directory(path, target_size=ip_shp[:2], batch_size=8)"
   ]
  },
  {
   "cell_type": "code",
   "execution_count": 839,
   "metadata": {},
   "outputs": [],
   "source": [
    "m.save('/home/aaditya/Documents/pytest2/neural-style-keras-master/BilinearVGG16_1.h5')"
   ]
  },
  {
   "cell_type": "code",
   "execution_count": 14,
   "metadata": {},
   "outputs": [],
   "source": [
    "checkpoint_path = '/home/aaditya/Documents/pytest2/neural-style-keras-master/BilinearVGG16_1.h5'"
   ]
  },
  {
   "cell_type": "markdown",
   "metadata": {},
   "source": [
    "#### Best Weights\n",
    "checkpoint_path = '/home/aaditya/Documents/pytest2/neural-style-keras-master/2_channel_SEclsfr_maxpool1.h5' 0.85 accuracy"
   ]
  },
  {
   "cell_type": "code",
   "execution_count": 558,
   "metadata": {},
   "outputs": [],
   "source": [
    "m.save_weights(checkpoint_path)"
   ]
  },
  {
   "cell_type": "code",
   "execution_count": 13,
   "metadata": {},
   "outputs": [],
   "source": [
    "m.compile(RMSprop(lr=0.0001), loss='categorical_crossentropy', metrics=['accuracy'])"
   ]
  },
  {
   "cell_type": "code",
   "execution_count": 15,
   "metadata": {},
   "outputs": [],
   "source": [
    "callbacks = keras.callbacks.ModelCheckpoint(checkpoint_path, monitor='loss', verbose=1, save_best_only=True, save_weights_only=False)"
   ]
  },
  {
   "cell_type": "code",
   "execution_count": 36,
   "metadata": {},
   "outputs": [],
   "source": [
    "K.set_value(m.optimizer.lr, 0.00001)"
   ]
  },
  {
   "cell_type": "code",
   "execution_count": 37,
   "metadata": {},
   "outputs": [
    {
     "name": "stdout",
     "output_type": "stream",
     "text": [
      "Epoch 1/4\n",
      "15/16 [===========================>..] - ETA: 0s - loss: 0.3020 - acc: 0.8917\n",
      "Epoch 00001: loss did not improve\n",
      "16/16 [==============================] - 8s 505ms/step - loss: 0.2930 - acc: 0.8984\n",
      "Epoch 2/4\n",
      "15/16 [===========================>..] - ETA: 0s - loss: 0.2784 - acc: 0.9083\n",
      "Epoch 00002: loss improved from 0.27616 to 0.27363, saving model to /home/aaditya/Documents/pytest2/neural-style-keras-master/BilinearVGG16_1.h5\n",
      "16/16 [==============================] - 9s 542ms/step - loss: 0.2736 - acc: 0.9141\n",
      "Epoch 3/4\n",
      "15/16 [===========================>..] - ETA: 0s - loss: 0.2838 - acc: 0.9167\n",
      "Epoch 00003: loss did not improve\n",
      "16/16 [==============================] - 8s 505ms/step - loss: 0.2793 - acc: 0.9219\n",
      "Epoch 4/4\n",
      "15/16 [===========================>..] - ETA: 0s - loss: 0.2623 - acc: 0.9333\n",
      "Epoch 00004: loss improved from 0.27363 to 0.25559, saving model to /home/aaditya/Documents/pytest2/neural-style-keras-master/BilinearVGG16_1.h5\n",
      "16/16 [==============================] - 8s 511ms/step - loss: 0.2556 - acc: 0.9375\n"
     ]
    }
   ],
   "source": [
    "history = m.fit_generator(testgen, steps_per_epoch=16, callbacks=[callbacks], epochs=4, max_queue_size=12)\n",
    "#m.fit_generator(gen.flow(x_train, y_train, batch_size=2), steps_per_epoch=8, epochs=9)\n",
    "#m.fit_generator(gen.flow(x_train, y_train, batch_size=2), steps_per_epoch=8, epochs=9)"
   ]
  },
  {
   "cell_type": "code",
   "execution_count": 34,
   "metadata": {},
   "outputs": [
    {
     "data": {
      "text/plain": [
       "[<matplotlib.lines.Line2D at 0x7f5fc4f452b0>]"
      ]
     },
     "execution_count": 34,
     "metadata": {},
     "output_type": "execute_result"
    },
    {
     "data": {
      "image/png": "[encoded data removed]",
      "text/plain": [
       "<matplotlib.figure.Figure at 0x7f5fc5096630>"
      ]
     },
     "metadata": {},
     "output_type": "display_data"
    }
   ],
   "source": [
    "plt.plot(history.history['loss'])"
   ]
  },
  {
   "cell_type": "code",
   "execution_count": 35,
   "metadata": {},
   "outputs": [
    {
     "data": {
      "text/plain": [
       "[0.28063947205640832, 0.91326530612244894]"
      ]
     },
     "execution_count": 35,
     "metadata": {},
     "output_type": "execute_result"
    }
   ],
   "source": [
    "m.evaluate_generator(testgen)"
   ]
  },
  {
   "cell_type": "code",
   "execution_count": 18,
   "metadata": {},
   "outputs": [],
   "source": [
    "testdir = '/home/aaditya/Documents/pytest2/neural-style-keras-master/content_imgs/test'"
   ]
  },
  {
   "cell_type": "code",
   "execution_count": 19,
   "metadata": {},
   "outputs": [
    {
     "name": "stdout",
     "output_type": "stream",
     "text": [
      "Found 392 images belonging to 2 classes.\n"
     ]
    }
   ],
   "source": [
    "testgen = ImageDataGenerator().flow_from_directory(testdir, target_size=ip_shp[:-1], batch_size=8)"
   ]
  },
  {
   "cell_type": "code",
   "execution_count": 69,
   "metadata": {},
   "outputs": [],
   "source": [
    "a, b = testgen.next()"
   ]
  },
  {
   "cell_type": "code",
   "execution_count": 70,
   "metadata": {},
   "outputs": [],
   "source": [
    "i = 0"
   ]
  },
  {
   "cell_type": "code",
   "execution_count": 72,
   "metadata": {},
   "outputs": [
    {
     "name": "stdout",
     "output_type": "stream",
     "text": [
      "0 pred:  0\n"
     ]
    },
    {
     "data": {
      "image/png": "[encoded data removed]",
      "text/plain": [
       "<matplotlib.figure.Figure at 0x7f68ab572470>"
      ]
     },
     "metadata": {},
     "output_type": "display_data"
    }
   ],
   "source": [
    "plt.imshow(a[i].astype('uint8')); print(np.argmax(b[i]), 'pred: ', np.argmax(m.predict(a[i:i+1])))\n",
    "i+=1"
   ]
  },
  {
   "cell_type": "code",
   "execution_count": 891,
   "metadata": {},
   "outputs": [],
   "source": [
    "i=0"
   ]
  },
  {
   "cell_type": "markdown",
   "metadata": {},
   "source": [
    "a = m.predict(x_train[0:1])"
   ]
  },
  {
   "cell_type": "markdown",
   "metadata": {
    "scrolled": true
   },
   "source": [
    "a"
   ]
  },
  {
   "cell_type": "markdown",
   "metadata": {},
   "source": [
    "y_train[0]"
   ]
  },
  {
   "cell_type": "markdown",
   "metadata": {},
   "source": [
    "for layer in m.layers[43:]: layer.trainable=True\n",
    "ip = m.input\n",
    "o1 = m.output\n",
    "x = Dense(3, activation='softmax')(o1)\n",
    "M = Model(inputs=ip, outputs=x)"
   ]
  },
  {
   "cell_type": "markdown",
   "metadata": {},
   "source": [
    "M.summary()"
   ]
  },
  {
   "cell_type": "markdown",
   "metadata": {},
   "source": [
    "M = create_model()"
   ]
  },
  {
   "cell_type": "markdown",
   "metadata": {},
   "source": [
    "M.compile(RMSprop(lr=0.1), loss='binary_crossentropy', metrics=['accuracy'])"
   ]
  },
  {
   "cell_type": "markdown",
   "metadata": {},
   "source": [
    "checkpoint_path = '/home/aaditya/Documents/pytest2/neural-style-keras-master/onlyfinecls2.h5'"
   ]
  },
  {
   "cell_type": "markdown",
   "metadata": {},
   "source": [
    "callbacks = keras.callbacks.ModelCheckpoint(checkpoint_path, monitor='acc', verbose=1, save_best_only=True, save_weights_only=False)"
   ]
  },
  {
   "cell_type": "markdown",
   "metadata": {},
   "source": [
    "traingen = ImageDataGenerator().flow_from_directory('/home/aaditya/Documents/pytest2/neural-style-keras-master/content_imgs/imgs_resized', target_size=(513, 385), batch_size=2)"
   ]
  },
  {
   "cell_type": "markdown",
   "metadata": {},
   "source": [
    "M.fit_generator(traingen, steps_per_epoch=8, epochs=2, callbacks=[callbacks], validation_data=traingen, validation_steps=3)\n",
    "#M.fit_generator(gen.flow(x_train, y_train, batch_size=2), steps_per_epoch=8, epochs=9)\n",
    "#M.fit_generator(gen.flow(x_train, y_train, batch_size=2), steps_per_epoch=8, epochs=9)"
   ]
  },
  {
   "cell_type": "markdown",
   "metadata": {},
   "source": [
    "a, b = traingen.next()"
   ]
  },
  {
   "cell_type": "markdown",
   "metadata": {},
   "source": [
    "plt.imshow(a[0].astype('uint8'))"
   ]
  },
  {
   "cell_type": "markdown",
   "metadata": {},
   "source": [
    "b"
   ]
  },
  {
   "cell_type": "markdown",
   "metadata": {},
   "source": [
    "np.argmax(M.predict(a), axis=1)"
   ]
  },
  {
   "cell_type": "markdown",
   "metadata": {},
   "source": [
    "mbnet = xception.Xception(input_shape=ip_shp, weights=None, include_top=True)"
   ]
  },
  {
   "cell_type": "markdown",
   "metadata": {},
   "source": [
    "mbnet.load_weights('/home/aaditya/Documents/pytest2/xception_weights_tf_dim_ordering_tf_kernels.h5')"
   ]
  },
  {
   "cell_type": "markdown",
   "metadata": {},
   "source": [
    "out = mbnet.get_layer('avg_pool').output\n",
    "mbnet_bot = Model(mbnet.input, out)"
   ]
  },
  {
   "cell_type": "markdown",
   "metadata": {},
   "source": [
    "testx = Image.open('/home/aaditya/Documents/pytest2/neural-style-keras-master/content_imgs/imgs_resized/2/0.63.jpg')\n",
    "testx = np.array(testx, dtype=np.float)\n",
    "testx = np.expand_dims(testx, 0)"
   ]
  },
  {
   "cell_type": "markdown",
   "metadata": {},
   "source": [
    "testx = xception.preprocess_input(testx)"
   ]
  },
  {
   "cell_type": "markdown",
   "metadata": {},
   "source": [
    "testx.shape"
   ]
  },
  {
   "cell_type": "markdown",
   "metadata": {},
   "source": [
    "xception.decode_predictions(mbnet.predict(testx))"
   ]
  },
  {
   "cell_type": "markdown",
   "metadata": {},
   "source": [
    "path = '/home/aaditya/Documents/pytest2/neural-style-keras-master/content_imgs/imgs_resized/2'\n",
    "items = sorted(os.listdir(path), key=foo)"
   ]
  },
  {
   "cell_type": "markdown",
   "metadata": {},
   "source": [
    "all_probs2 = []\n",
    "for item in items:\n",
    "    im = Image.open(os.path.join(path, item))\n",
    "    im = np.expand_dims(np.array(im, dtype=np.float), 0)\n",
    "    im = xception.preprocess_input(im)\n",
    "    prob = mbnet_bot.predict(im)\n",
    "    all_probs2.append(prob)\n",
    "all_probs2 = np.array(all_probs2)"
   ]
  },
  {
   "cell_type": "markdown",
   "metadata": {},
   "source": [
    "all_probs2.shape"
   ]
  },
  {
   "cell_type": "markdown",
   "metadata": {},
   "source": [
    "prob2 = np.reshape(all_probs2, (124, 2048))"
   ]
  },
  {
   "cell_type": "markdown",
   "metadata": {},
   "source": [
    "prob0.shape"
   ]
  },
  {
   "cell_type": "markdown",
   "metadata": {},
   "source": [
    "prob1.shape"
   ]
  },
  {
   "cell_type": "markdown",
   "metadata": {},
   "source": [
    "prob2.shape"
   ]
  },
  {
   "cell_type": "markdown",
   "metadata": {},
   "source": [
    "with h5py.File('/home/aaditya/Documents/pytest2/neural-style-keras-master/content_imgs/probs.h5', 'r') as hdf:\n",
    "    prob0 = hdf.get('prob0')\n",
    "    prob0 = np.array(prob0)"
   ]
  },
  {
   "cell_type": "markdown",
   "metadata": {},
   "source": [
    "with h5py.File('/home/aaditya/Documents/pytest2/neural-style-keras-master/content_imgs/probs.h5', 'w') as hdf:\n",
    "    hdf.create_dataset('prob0', data=prob0)\n",
    "    hdf.create_dataset('prob1', data=prob1)\n",
    "    hdf.create_dataset('prob2', data=prob2)"
   ]
  },
  {
   "cell_type": "markdown",
   "metadata": {},
   "source": [
    "os.listdir(path)"
   ]
  },
  {
   "cell_type": "markdown",
   "metadata": {},
   "source": [
    "idx = [os.listdir(path)[i].split('.')[1] for i in range(len(os.listdir(path)))]"
   ]
  },
  {
   "cell_type": "markdown",
   "metadata": {},
   "source": [
    "sorted(os.listdir(path), key=foo)"
   ]
  },
  {
   "cell_type": "markdown",
   "metadata": {},
   "source": [
    "def foo(x):\n",
    "    return int(x.split('.')[1])"
   ]
  },
  {
   "cell_type": "code",
   "execution_count": null,
   "metadata": {},
   "outputs": [],
   "source": []
  }
 ],
 "metadata": {
  "kernelspec": {
   "display_name": "Tf2",
   "language": "python",
   "name": "python3"
  },
  "language_info": {
   "codemirror_mode": {
    "name": "ipython",
    "version": 3
   },
   "file_extension": ".py",
   "mimetype": "text/x-python",
   "name": "python",
   "nbconvert_exporter": "python",
   "pygments_lexer": "ipython3",
   "version": "3.5.4"
  }
 },
 "nbformat": 4,
 "nbformat_minor": 2
}
